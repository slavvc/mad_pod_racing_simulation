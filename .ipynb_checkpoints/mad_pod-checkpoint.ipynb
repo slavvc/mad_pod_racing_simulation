{
 "cells": [
  {
   "cell_type": "code",
   "execution_count": 1,
   "id": "9e0a949c-6365-4e78-8c2f-ae7be7540506",
   "metadata": {},
   "outputs": [
    {
     "data": {
      "application/geo+json": {
       "geometry": {
        "coordinates": [
         -81.327,
         296.038
        ],
        "type": "Point"
       },
       "type": "Feature"
      },
      "text/plain": [
       "<IPython.display.GeoJSON object>"
      ]
     },
     "metadata": {
      "application/geo+json": {
       "expanded": false,
       "layer_options": {
        "attribution": "Celestia/praesepe",
        "basemap_id": "celestia_mars-shaded-16k_global",
        "maxZoom": 18,
        "minZoom": 0
       },
       "root": "root",
       "url_template": "http://s3-eu-west-1.amazonaws.com/whereonmars.cartodb.net/{basemap_id}/{z}/{x}/{y}.png"
      }
     },
     "output_type": "display_data"
    }
   ],
   "source": [
    "from IPython.display import GeoJSON\n",
    "GeoJSON(data={\n",
    "\n",
    "    \"type\": \"Feature\",\n",
    "\n",
    "    \"geometry\": {\n",
    "\n",
    "        \"type\": \"Point\",\n",
    "\n",
    "        \"coordinates\": [-81.327, 296.038]\n",
    "\n",
    "    }\n",
    "\n",
    "},\n",
    "\n",
    "url_template=\"http://s3-eu-west-1.amazonaws.com/whereonmars.cartodb.net/{basemap_id}/{z}/{x}/{y}.png\",\n",
    "\n",
    "layer_options={\n",
    "\n",
    "    \"basemap_id\": \"celestia_mars-shaded-16k_global\",\n",
    "\n",
    "    \"attribution\" : \"Celestia/praesepe\",\n",
    "\n",
    "    \"minZoom\" : 0,\n",
    "\n",
    "    \"maxZoom\" : 18,\n",
    "\n",
    "})"
   ]
  }
 ],
 "metadata": {
  "kernelspec": {
   "display_name": "Python 3 (ipykernel)",
   "language": "python",
   "name": "python3"
  },
  "language_info": {
   "codemirror_mode": {
    "name": "ipython",
    "version": 3
   },
   "file_extension": ".py",
   "mimetype": "text/x-python",
   "name": "python",
   "nbconvert_exporter": "python",
   "pygments_lexer": "ipython3",
   "version": "3.12.5"
  }
 },
 "nbformat": 4,
 "nbformat_minor": 5
}
